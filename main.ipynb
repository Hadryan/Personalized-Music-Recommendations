{
 "metadata": {
  "language_info": {
   "codemirror_mode": {
    "name": "ipython",
    "version": 3
   },
   "file_extension": ".py",
   "mimetype": "text/x-python",
   "name": "python",
   "nbconvert_exporter": "python",
   "pygments_lexer": "ipython3",
   "version": "3.7.7-final"
  },
  "orig_nbformat": 2,
  "kernelspec": {
   "name": "python_defaultSpec_1599513413836",
   "display_name": "Python 3.7.7 64-bit ('base': conda)"
  }
 },
 "nbformat": 4,
 "nbformat_minor": 2,
 "cells": [
  {
   "cell_type": "markdown",
   "metadata": {},
   "source": [
    "# Personalized Music Recommendations"
   ]
  },
  {
   "cell_type": "markdown",
   "metadata": {},
   "source": [
    "## Imports"
   ]
  },
  {
   "cell_type": "code",
   "execution_count": 1,
   "metadata": {},
   "outputs": [],
   "source": [
    "from webscraper import WebScraper\n",
    "from data_engineering import PandoraSongSet\n",
    "import pandas as pd\n"
   ]
  },
  {
   "cell_type": "markdown",
   "metadata": {},
   "source": [
    "## Main\n",
    "I layed out the order in which to run the project with divisions that made sense to me."
   ]
  },
  {
   "cell_type": "markdown",
   "metadata": {},
   "source": [
    "### Webscraper\n",
    "This will turn on and activate the scraper which will login into Pandora, grab all the stations, iterate through each and collect the thumbs-upped and thumbs-downed songs. It will output all of the collected songs into a json file."
   ]
  },
  {
   "cell_type": "code",
   "execution_count": 2,
   "metadata": {
    "tags": []
   },
   "outputs": [
    {
     "output_type": "stream",
     "name": "stdout",
     "text": "Pandora login successful.\nThere are 35 stations.\nGryffin Radio\n\tLikes: 57 Dislike: 2\n\tActual Likes: 53 Actual Dislike: 1\n6IX9INE Radio\n\tLikes: 3 Dislike: 50\n\tActual Likes: 3 Actual Dislike: 50\nDrake Radio\n\tLikes: 7 Dislike: 4\n\tActual Likes: 7 Actual Dislike: 4\nBack In The Summer Radio\n\tLikes: 14 Dislike: 0\n\tActual Likes: 14 Actual Dislike: 0\nLevel of Concern Radio\n\tLikes: 5 Dislike: 0\n\tActual Likes: 5 Actual Dislike: 0\nSuperhero Radio\n\tLikes: 50 Dislike: 0\n\tActual Likes: 50 Actual Dislike: 0\nStill Woozy Radio\n\tLikes: 190 Dislike: 2\n\tActual Likes: 190 Actual Dislike: 2\nOmae Wa Mou Radio\n\tLikes: 22 Dislike: 0\n\tActual Likes: 22 Actual Dislike: 0\nLewis Capaldi Radio\n\tLikes: 142 Dislike: 0\n\tActual Likes: 142 Actual Dislike: 0\nJukebox The Ghost Radio\n\tLikes: 181 Dislike: 1\n\tActual Likes: 181 Actual Dislike: 1\nJohn Mayer Radio\n\tLikes: 1 Dislike: 1\n\tActual Likes: 1 Actual Dislike: 1\nOlly Murs Radio\n\tLikes: 3 Dislike: 0\n\tActual Likes: 3 Actual Dislike: 0\nI Like Me Better Radio Dance Pop\n\tLikes: 168 Dislike: 0\n\tActual Likes: 168 Actual Dislike: 0\nLonely Radio kpop2\n\tLikes: 24 Dislike: 0\n\tActual Likes: 24 Actual Dislike: 0\nSon Tung M-TP Radio\n\tLikes: 5 Dislike: 0\n\tActual Likes: 5 Actual Dislike: 0\nToday's Hits Radio\n\tLikes: 369 Dislike: 78\n\tActual Likes: 365 Actual Dislike: 77\nHasta El Amanecer Radio\n\tLikes: 18 Dislike: 5\n\tActual Likes: 18 Actual Dislike: 5\nEyes, Nose, Lips Radio\n\tLikes: 347 Dislike: 28\n\tActual Likes: 347 Actual Dislike: 28\nIf I Talk To God Radio Sad\n\tLikes: 96 Dislike: 0\n\tActual Likes: 96 Actual Dislike: 0\nThinking Of Me Radio\n\tLikes: 37 Dislike: 2\n\tActual Likes: 37 Actual Dislike: 2\nJet Lag Radio Angst\n\tLikes: 185 Dislike: 37\n\tActual Likes: 185 Actual Dislike: 37\nWasted Radio Sad\n\tLikes: 390 Dislike: 8\n\tActual Likes: 390 Actual Dislike: 8\nClarity Radio EDM\n\tLikes: 131 Dislike: 45\n\tActual Likes: 131 Actual Dislike: 45\nAmy Winehouse Radio\n\tLikes: 6 Dislike: 0\n\tActual Likes: 6 Actual Dislike: 0\nMKTO Radio Pop\n\tLikes: 344 Dislike: 106\n\tActual Likes: 344 Actual Dislike: 106\nBeyoncé Radio\n\tLikes: 7 Dislike: 1\n\tActual Likes: 7 Actual Dislike: 1\nBritney Spears Radio\n\tLikes: 10 Dislike: 1\n\tActual Likes: 10 Actual Dislike: 1\nUptown Funk (Feat. Bruno Mars) Radio\n\tLikes: 165 Dislike: 226\n\tActual Likes: 164 Actual Dislike: 190\nWasted Radio\n\tLikes: 421 Dislike: 672\n\tActual Likes: 311 Actual Dislike: 669\nTimber Radio\n\tLikes: 309 Dislike: 558\n\tActual Likes: 309 Actual Dislike: 558\nMaroon 5 Radio Throwbacks\n\tLikes: 784 Dislike: 1629\n\tActual Likes: 410 Actual Dislike: 70\nThe data JSON has been created.\n"
    }
   ],
   "source": [
    "pandora_scraper = WebScraper()\n",
    "pandora_scraper.build()"
   ]
  },
  {
   "cell_type": "markdown",
   "metadata": {},
   "source": [
    "### Pandora songs with Spotify audio features\n",
    "This creates a dataset from the webscraped json file and combines it with Spotify audio features."
   ]
  },
  {
   "cell_type": "code",
   "execution_count": 2,
   "metadata": {
    "tags": []
   },
   "outputs": [
    {
     "output_type": "stream",
     "name": "stdout",
     "text": "Spotify authentication successful!\nAudio features retrieved.\nSomething is wrong with the creation of the full songs dataframe file.\n[Errno 2] No such file or directory: 'output\\\\unclean_songs.csv'\nSomething is wrong with the creation of the cleaned songs dataframe file.\n[Errno 2] No such file or directory: 'output\\\\songs.csv'\n"
    },
    {
     "output_type": "execute_result",
     "data": {
      "text/plain": "                                name               artist  liked  \\\n0     I Don't Wanna Love You Anymore                 LANY   True   \n1935                           Slide    The Goo Goo Dolls   True   \n1922                     Better Days    The Goo Goo Dolls   True   \n1924      I Write Sins Not Tragedies  Panic! At The Disco   True   \n1925                   Gone Too Soon          Simple Plan   True   \n...                              ...                  ...    ...   \n3110                       Earned It           The Weeknd  False   \n3111              Better Left Unsaid        Ariana Grande  False   \n3112            All Around The World        Justin Bieber  False   \n3113                         Holiday            Green Day  False   \n5821    Do You Know What I'm Seeing?  Panic! At The Disco  False   \n\n      danceability  energy  key  loudness  mode  speechiness  acousticness  \\\n0            0.702   0.623  0.0    -8.360   1.0       0.0417      0.322000   \n1935         0.395   0.843  8.0    -4.476   1.0       0.0374      0.004830   \n1922         0.486   0.595  7.0    -5.009   1.0       0.0302      0.002120   \n1924         0.569   0.830  9.0    -4.106   0.0       0.1400      0.080700   \n1925         0.204   0.811  2.0    -4.326   1.0       0.0313      0.011900   \n...            ...     ...  ...       ...   ...          ...           ...   \n3110         0.659   0.291  2.0    -8.275   0.0       0.0348      0.405000   \n3111         0.585   0.831  9.0    -4.024   1.0       0.0334      0.039100   \n3112         0.689   0.816  3.0    -3.951   0.0       0.1780      0.018800   \n3113         0.290   0.827  8.0    -3.451   1.0       0.0362      0.000659   \n5821         0.510   0.670  8.0    -7.519   0.0       0.0343      0.085100   \n\n      ...  liveness  valence    tempo            type                      id  \\\n0     ...    0.0858    0.503  104.974  audio_features  7ArrTJ1LwcGAlEO65LUQ7i   \n1935  ...    0.0404    0.481  112.423  audio_features  0nnwn7LWHCAu09jfuH1xTA   \n1922  ...    0.0953    0.331  113.276  audio_features  2hiB8QxWic092OablwpoVC   \n1924  ...    0.1140    0.609  170.094  audio_features  4bPQs0PHn4xbipzdPfn6du   \n1925  ...    0.0908    0.296   87.903  audio_features  4V3SBW3VhtTSRZdVMP2pl9   \n...   ...       ...      ...      ...             ...                     ...   \n3110  ...    0.0771    0.406  119.829  audio_features  4frLb7nWtsz2ymBE6k2GRP   \n3111  ...    0.1040    0.280  130.059  audio_features  5Pnny78GESkBSLnxFmhRYZ   \n3112  ...    0.1810    0.776  127.972  audio_features  1Mg8vLBYwizu7AuhYQO64V   \n3113  ...    0.3010    0.450  167.086  audio_features  0MsrWnxQZxPAcov7c74sSo   \n5821  ...    0.1620    0.265  124.144  audio_features  1ac22sFSlj3iaQV2qAsFkK   \n\n                                       uri  \\\n0     spotify:track:7ArrTJ1LwcGAlEO65LUQ7i   \n1935  spotify:track:0nnwn7LWHCAu09jfuH1xTA   \n1922  spotify:track:2hiB8QxWic092OablwpoVC   \n1924  spotify:track:4bPQs0PHn4xbipzdPfn6du   \n1925  spotify:track:4V3SBW3VhtTSRZdVMP2pl9   \n...                                    ...   \n3110  spotify:track:4frLb7nWtsz2ymBE6k2GRP   \n3111  spotify:track:5Pnny78GESkBSLnxFmhRYZ   \n3112  spotify:track:1Mg8vLBYwizu7AuhYQO64V   \n3113  spotify:track:0MsrWnxQZxPAcov7c74sSo   \n5821  spotify:track:1ac22sFSlj3iaQV2qAsFkK   \n\n                                             track_href  \\\n0     https://api.spotify.com/v1/tracks/7ArrTJ1LwcGA...   \n1935  https://api.spotify.com/v1/tracks/0nnwn7LWHCAu...   \n1922  https://api.spotify.com/v1/tracks/2hiB8QxWic09...   \n1924  https://api.spotify.com/v1/tracks/4bPQs0PHn4xb...   \n1925  https://api.spotify.com/v1/tracks/4V3SBW3VhtTS...   \n...                                                 ...   \n3110  https://api.spotify.com/v1/tracks/4frLb7nWtsz2...   \n3111  https://api.spotify.com/v1/tracks/5Pnny78GESkB...   \n3112  https://api.spotify.com/v1/tracks/1Mg8vLBYwizu...   \n3113  https://api.spotify.com/v1/tracks/0MsrWnxQZxPA...   \n5821  https://api.spotify.com/v1/tracks/1ac22sFSlj3i...   \n\n                                           analysis_url duration_ms  \\\n0     https://api.spotify.com/v1/audio-analysis/7Arr...    201198.0   \n1935  https://api.spotify.com/v1/audio-analysis/0nnw...    212067.0   \n1922  https://api.spotify.com/v1/audio-analysis/2hiB...    213267.0   \n1924  https://api.spotify.com/v1/audio-analysis/4bPQ...    186635.0   \n1925  https://api.spotify.com/v1/audio-analysis/4V3S...    195547.0   \n...                                                 ...         ...   \n3110  https://api.spotify.com/v1/audio-analysis/4frL...    277680.0   \n3111  https://api.spotify.com/v1/audio-analysis/5Pnn...    211227.0   \n3112  https://api.spotify.com/v1/audio-analysis/1Mg8...    244547.0   \n3113  https://api.spotify.com/v1/audio-analysis/0Msr...    493400.0   \n5821  https://api.spotify.com/v1/audio-analysis/1ac2...    254387.0   \n\n      time_signature  \n0                4.0  \n1935             4.0  \n1922             4.0  \n1924             4.0  \n1925             4.0  \n...              ...  \n3110             3.0  \n3111             4.0  \n3112             4.0  \n3113             4.0  \n5821             4.0  \n\n[2768 rows x 21 columns]",
      "text/html": "<div>\n<style scoped>\n    .dataframe tbody tr th:only-of-type {\n        vertical-align: middle;\n    }\n\n    .dataframe tbody tr th {\n        vertical-align: top;\n    }\n\n    .dataframe thead th {\n        text-align: right;\n    }\n</style>\n<table border=\"1\" class=\"dataframe\">\n  <thead>\n    <tr style=\"text-align: right;\">\n      <th></th>\n      <th>name</th>\n      <th>artist</th>\n      <th>liked</th>\n      <th>danceability</th>\n      <th>energy</th>\n      <th>key</th>\n      <th>loudness</th>\n      <th>mode</th>\n      <th>speechiness</th>\n      <th>acousticness</th>\n      <th>...</th>\n      <th>liveness</th>\n      <th>valence</th>\n      <th>tempo</th>\n      <th>type</th>\n      <th>id</th>\n      <th>uri</th>\n      <th>track_href</th>\n      <th>analysis_url</th>\n      <th>duration_ms</th>\n      <th>time_signature</th>\n    </tr>\n  </thead>\n  <tbody>\n    <tr>\n      <th>0</th>\n      <td>I Don't Wanna Love You Anymore</td>\n      <td>LANY</td>\n      <td>True</td>\n      <td>0.702</td>\n      <td>0.623</td>\n      <td>0.0</td>\n      <td>-8.360</td>\n      <td>1.0</td>\n      <td>0.0417</td>\n      <td>0.322000</td>\n      <td>...</td>\n      <td>0.0858</td>\n      <td>0.503</td>\n      <td>104.974</td>\n      <td>audio_features</td>\n      <td>7ArrTJ1LwcGAlEO65LUQ7i</td>\n      <td>spotify:track:7ArrTJ1LwcGAlEO65LUQ7i</td>\n      <td>https://api.spotify.com/v1/tracks/7ArrTJ1LwcGA...</td>\n      <td>https://api.spotify.com/v1/audio-analysis/7Arr...</td>\n      <td>201198.0</td>\n      <td>4.0</td>\n    </tr>\n    <tr>\n      <th>1935</th>\n      <td>Slide</td>\n      <td>The Goo Goo Dolls</td>\n      <td>True</td>\n      <td>0.395</td>\n      <td>0.843</td>\n      <td>8.0</td>\n      <td>-4.476</td>\n      <td>1.0</td>\n      <td>0.0374</td>\n      <td>0.004830</td>\n      <td>...</td>\n      <td>0.0404</td>\n      <td>0.481</td>\n      <td>112.423</td>\n      <td>audio_features</td>\n      <td>0nnwn7LWHCAu09jfuH1xTA</td>\n      <td>spotify:track:0nnwn7LWHCAu09jfuH1xTA</td>\n      <td>https://api.spotify.com/v1/tracks/0nnwn7LWHCAu...</td>\n      <td>https://api.spotify.com/v1/audio-analysis/0nnw...</td>\n      <td>212067.0</td>\n      <td>4.0</td>\n    </tr>\n    <tr>\n      <th>1922</th>\n      <td>Better Days</td>\n      <td>The Goo Goo Dolls</td>\n      <td>True</td>\n      <td>0.486</td>\n      <td>0.595</td>\n      <td>7.0</td>\n      <td>-5.009</td>\n      <td>1.0</td>\n      <td>0.0302</td>\n      <td>0.002120</td>\n      <td>...</td>\n      <td>0.0953</td>\n      <td>0.331</td>\n      <td>113.276</td>\n      <td>audio_features</td>\n      <td>2hiB8QxWic092OablwpoVC</td>\n      <td>spotify:track:2hiB8QxWic092OablwpoVC</td>\n      <td>https://api.spotify.com/v1/tracks/2hiB8QxWic09...</td>\n      <td>https://api.spotify.com/v1/audio-analysis/2hiB...</td>\n      <td>213267.0</td>\n      <td>4.0</td>\n    </tr>\n    <tr>\n      <th>1924</th>\n      <td>I Write Sins Not Tragedies</td>\n      <td>Panic! At The Disco</td>\n      <td>True</td>\n      <td>0.569</td>\n      <td>0.830</td>\n      <td>9.0</td>\n      <td>-4.106</td>\n      <td>0.0</td>\n      <td>0.1400</td>\n      <td>0.080700</td>\n      <td>...</td>\n      <td>0.1140</td>\n      <td>0.609</td>\n      <td>170.094</td>\n      <td>audio_features</td>\n      <td>4bPQs0PHn4xbipzdPfn6du</td>\n      <td>spotify:track:4bPQs0PHn4xbipzdPfn6du</td>\n      <td>https://api.spotify.com/v1/tracks/4bPQs0PHn4xb...</td>\n      <td>https://api.spotify.com/v1/audio-analysis/4bPQ...</td>\n      <td>186635.0</td>\n      <td>4.0</td>\n    </tr>\n    <tr>\n      <th>1925</th>\n      <td>Gone Too Soon</td>\n      <td>Simple Plan</td>\n      <td>True</td>\n      <td>0.204</td>\n      <td>0.811</td>\n      <td>2.0</td>\n      <td>-4.326</td>\n      <td>1.0</td>\n      <td>0.0313</td>\n      <td>0.011900</td>\n      <td>...</td>\n      <td>0.0908</td>\n      <td>0.296</td>\n      <td>87.903</td>\n      <td>audio_features</td>\n      <td>4V3SBW3VhtTSRZdVMP2pl9</td>\n      <td>spotify:track:4V3SBW3VhtTSRZdVMP2pl9</td>\n      <td>https://api.spotify.com/v1/tracks/4V3SBW3VhtTS...</td>\n      <td>https://api.spotify.com/v1/audio-analysis/4V3S...</td>\n      <td>195547.0</td>\n      <td>4.0</td>\n    </tr>\n    <tr>\n      <th>...</th>\n      <td>...</td>\n      <td>...</td>\n      <td>...</td>\n      <td>...</td>\n      <td>...</td>\n      <td>...</td>\n      <td>...</td>\n      <td>...</td>\n      <td>...</td>\n      <td>...</td>\n      <td>...</td>\n      <td>...</td>\n      <td>...</td>\n      <td>...</td>\n      <td>...</td>\n      <td>...</td>\n      <td>...</td>\n      <td>...</td>\n      <td>...</td>\n      <td>...</td>\n      <td>...</td>\n    </tr>\n    <tr>\n      <th>3110</th>\n      <td>Earned It</td>\n      <td>The Weeknd</td>\n      <td>False</td>\n      <td>0.659</td>\n      <td>0.291</td>\n      <td>2.0</td>\n      <td>-8.275</td>\n      <td>0.0</td>\n      <td>0.0348</td>\n      <td>0.405000</td>\n      <td>...</td>\n      <td>0.0771</td>\n      <td>0.406</td>\n      <td>119.829</td>\n      <td>audio_features</td>\n      <td>4frLb7nWtsz2ymBE6k2GRP</td>\n      <td>spotify:track:4frLb7nWtsz2ymBE6k2GRP</td>\n      <td>https://api.spotify.com/v1/tracks/4frLb7nWtsz2...</td>\n      <td>https://api.spotify.com/v1/audio-analysis/4frL...</td>\n      <td>277680.0</td>\n      <td>3.0</td>\n    </tr>\n    <tr>\n      <th>3111</th>\n      <td>Better Left Unsaid</td>\n      <td>Ariana Grande</td>\n      <td>False</td>\n      <td>0.585</td>\n      <td>0.831</td>\n      <td>9.0</td>\n      <td>-4.024</td>\n      <td>1.0</td>\n      <td>0.0334</td>\n      <td>0.039100</td>\n      <td>...</td>\n      <td>0.1040</td>\n      <td>0.280</td>\n      <td>130.059</td>\n      <td>audio_features</td>\n      <td>5Pnny78GESkBSLnxFmhRYZ</td>\n      <td>spotify:track:5Pnny78GESkBSLnxFmhRYZ</td>\n      <td>https://api.spotify.com/v1/tracks/5Pnny78GESkB...</td>\n      <td>https://api.spotify.com/v1/audio-analysis/5Pnn...</td>\n      <td>211227.0</td>\n      <td>4.0</td>\n    </tr>\n    <tr>\n      <th>3112</th>\n      <td>All Around The World</td>\n      <td>Justin Bieber</td>\n      <td>False</td>\n      <td>0.689</td>\n      <td>0.816</td>\n      <td>3.0</td>\n      <td>-3.951</td>\n      <td>0.0</td>\n      <td>0.1780</td>\n      <td>0.018800</td>\n      <td>...</td>\n      <td>0.1810</td>\n      <td>0.776</td>\n      <td>127.972</td>\n      <td>audio_features</td>\n      <td>1Mg8vLBYwizu7AuhYQO64V</td>\n      <td>spotify:track:1Mg8vLBYwizu7AuhYQO64V</td>\n      <td>https://api.spotify.com/v1/tracks/1Mg8vLBYwizu...</td>\n      <td>https://api.spotify.com/v1/audio-analysis/1Mg8...</td>\n      <td>244547.0</td>\n      <td>4.0</td>\n    </tr>\n    <tr>\n      <th>3113</th>\n      <td>Holiday</td>\n      <td>Green Day</td>\n      <td>False</td>\n      <td>0.290</td>\n      <td>0.827</td>\n      <td>8.0</td>\n      <td>-3.451</td>\n      <td>1.0</td>\n      <td>0.0362</td>\n      <td>0.000659</td>\n      <td>...</td>\n      <td>0.3010</td>\n      <td>0.450</td>\n      <td>167.086</td>\n      <td>audio_features</td>\n      <td>0MsrWnxQZxPAcov7c74sSo</td>\n      <td>spotify:track:0MsrWnxQZxPAcov7c74sSo</td>\n      <td>https://api.spotify.com/v1/tracks/0MsrWnxQZxPA...</td>\n      <td>https://api.spotify.com/v1/audio-analysis/0Msr...</td>\n      <td>493400.0</td>\n      <td>4.0</td>\n    </tr>\n    <tr>\n      <th>5821</th>\n      <td>Do You Know What I'm Seeing?</td>\n      <td>Panic! At The Disco</td>\n      <td>False</td>\n      <td>0.510</td>\n      <td>0.670</td>\n      <td>8.0</td>\n      <td>-7.519</td>\n      <td>0.0</td>\n      <td>0.0343</td>\n      <td>0.085100</td>\n      <td>...</td>\n      <td>0.1620</td>\n      <td>0.265</td>\n      <td>124.144</td>\n      <td>audio_features</td>\n      <td>1ac22sFSlj3iaQV2qAsFkK</td>\n      <td>spotify:track:1ac22sFSlj3iaQV2qAsFkK</td>\n      <td>https://api.spotify.com/v1/tracks/1ac22sFSlj3i...</td>\n      <td>https://api.spotify.com/v1/audio-analysis/1ac2...</td>\n      <td>254387.0</td>\n      <td>4.0</td>\n    </tr>\n  </tbody>\n</table>\n<p>2768 rows × 21 columns</p>\n</div>"
     },
     "metadata": {},
     "execution_count": 2
    }
   ],
   "source": [
    "dataset = PandoraSongSet()\n",
    "dataset.build()\n",
    "dataset.songs"
   ]
  },
  {
   "cell_type": "markdown",
   "metadata": {},
   "source": [
    "### Find new recommendations\n",
    "### Randomly select songs from the Spotify database\n",
    "### Use graph network to find songs of similiar users\n",
    "### Use songs similiar in features"
   ]
  }
 ]
}