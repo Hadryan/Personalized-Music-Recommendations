{
 "metadata": {
  "language_info": {
   "codemirror_mode": {
    "name": "ipython",
    "version": 3
   },
   "file_extension": ".py",
   "mimetype": "text/x-python",
   "name": "python",
   "nbconvert_exporter": "python",
   "pygments_lexer": "ipython3",
   "version": "3.7.7-final"
  },
  "orig_nbformat": 2,
  "kernelspec": {
   "name": "python_defaultSpec_1599344694297",
   "display_name": "Python 3.7.7 64-bit ('base': conda)"
  }
 },
 "nbformat": 4,
 "nbformat_minor": 2,
 "cells": [
  {
   "cell_type": "markdown",
   "metadata": {},
   "source": [
    "# Personalized Music Recommendations"
   ]
  },
  {
   "cell_type": "markdown",
   "metadata": {},
   "source": [
    "## Imports"
   ]
  },
  {
   "cell_type": "code",
   "execution_count": 1,
   "metadata": {},
   "outputs": [],
   "source": [
    "from webscraper import WebScraper\n",
    "from data_engineering import PandoraSongSet"
   ]
  },
  {
   "cell_type": "markdown",
   "metadata": {},
   "source": [
    "### Webscraper\n",
    "This will turn on and activate the scraper which will login into Pandora, grab all the stations, iterate through each and collect the thumbs-upped and thumbs-downed songs. It will output all of the collected songs into a json file."
   ]
  },
  {
   "cell_type": "code",
   "execution_count": 2,
   "metadata": {},
   "outputs": [],
   "source": [
    "# pandora_scraper = WebScraper()\n",
    "# pandora_scraper.build()"
   ]
  },
  {
   "cell_type": "markdown",
   "metadata": {},
   "source": [
    "### Pandora songs with Spotify audio features\n",
    "This creates a dataset from the webscraped json file."
   ]
  },
  {
   "cell_type": "code",
   "execution_count": 3,
   "metadata": {},
   "outputs": [
    {
     "output_type": "execute_result",
     "data": {
      "text/plain": "                            name                                  artist  \\\n0                Who Do You Love  The Chainsmokers & 5 Seconds Of Summer   \n2229                 Rough Water                            Travie McCoy   \n2117                      Baby I                           Ariana Grande   \n2118         Dancing In The Dark                                 Rihanna   \n2119                         Try                          Colbie Caillat   \n...                          ...                                     ...   \n3939  Here's To Never Growing Up                           Avril Lavigne   \n3938                      Icarus                                Bastille   \n3936            Here We Go Again                             Demi Lovato   \n3935    Bang My Head (Feat. Sia)                            David Guetta   \n5447                     TTYLXOX                            Bella Thorne   \n\n      liked  \n0      True  \n2229   True  \n2117   True  \n2118   True  \n2119   True  \n...     ...  \n3939  False  \n3938  False  \n3936  False  \n3935  False  \n5447  False  \n\n[4027 rows x 3 columns]",
      "text/html": "<div>\n<style scoped>\n    .dataframe tbody tr th:only-of-type {\n        vertical-align: middle;\n    }\n\n    .dataframe tbody tr th {\n        vertical-align: top;\n    }\n\n    .dataframe thead th {\n        text-align: right;\n    }\n</style>\n<table border=\"1\" class=\"dataframe\">\n  <thead>\n    <tr style=\"text-align: right;\">\n      <th></th>\n      <th>name</th>\n      <th>artist</th>\n      <th>liked</th>\n    </tr>\n  </thead>\n  <tbody>\n    <tr>\n      <th>0</th>\n      <td>Who Do You Love</td>\n      <td>The Chainsmokers &amp; 5 Seconds Of Summer</td>\n      <td>True</td>\n    </tr>\n    <tr>\n      <th>2229</th>\n      <td>Rough Water</td>\n      <td>Travie McCoy</td>\n      <td>True</td>\n    </tr>\n    <tr>\n      <th>2117</th>\n      <td>Baby I</td>\n      <td>Ariana Grande</td>\n      <td>True</td>\n    </tr>\n    <tr>\n      <th>2118</th>\n      <td>Dancing In The Dark</td>\n      <td>Rihanna</td>\n      <td>True</td>\n    </tr>\n    <tr>\n      <th>2119</th>\n      <td>Try</td>\n      <td>Colbie Caillat</td>\n      <td>True</td>\n    </tr>\n    <tr>\n      <th>...</th>\n      <td>...</td>\n      <td>...</td>\n      <td>...</td>\n    </tr>\n    <tr>\n      <th>3939</th>\n      <td>Here's To Never Growing Up</td>\n      <td>Avril Lavigne</td>\n      <td>False</td>\n    </tr>\n    <tr>\n      <th>3938</th>\n      <td>Icarus</td>\n      <td>Bastille</td>\n      <td>False</td>\n    </tr>\n    <tr>\n      <th>3936</th>\n      <td>Here We Go Again</td>\n      <td>Demi Lovato</td>\n      <td>False</td>\n    </tr>\n    <tr>\n      <th>3935</th>\n      <td>Bang My Head (Feat. Sia)</td>\n      <td>David Guetta</td>\n      <td>False</td>\n    </tr>\n    <tr>\n      <th>5447</th>\n      <td>TTYLXOX</td>\n      <td>Bella Thorne</td>\n      <td>False</td>\n    </tr>\n  </tbody>\n</table>\n<p>4027 rows × 3 columns</p>\n</div>"
     },
     "metadata": {},
     "execution_count": 3
    }
   ],
   "source": [
    "dataset = PandoraSongSet()\n",
    "dataset.build()\n",
    "dataset.songs"
   ]
  },
  {
   "cell_type": "markdown",
   "metadata": {},
   "source": [
    "### Create model based on features\n",
    "### Adjust models via balancing and different estimators"
   ]
  },
  {
   "cell_type": "markdown",
   "metadata": {},
   "source": [
    "### Find new recommendations\n",
    "### Randomly select songs from the Spotify database\n",
    "### Use graph network to find songs of similiar users\n",
    "### Use songs similiar in features"
   ]
  }
 ]
}