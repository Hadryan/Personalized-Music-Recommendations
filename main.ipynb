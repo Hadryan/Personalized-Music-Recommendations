{
 "metadata": {
  "language_info": {
   "codemirror_mode": {
    "name": "ipython",
    "version": 3
   },
   "file_extension": ".py",
   "mimetype": "text/x-python",
   "name": "python",
   "nbconvert_exporter": "python",
   "pygments_lexer": "ipython3",
   "version": "3.7.7-final"
  },
  "orig_nbformat": 2,
  "kernelspec": {
   "name": "python_defaultSpec_1599524676038",
   "display_name": "Python 3.7.7 64-bit ('base': conda)"
  }
 },
 "nbformat": 4,
 "nbformat_minor": 2,
 "cells": [
  {
   "cell_type": "markdown",
   "metadata": {},
   "source": [
    "# Personalized Music Recommendations"
   ]
  },
  {
   "cell_type": "markdown",
   "metadata": {},
   "source": [
    "## Imports"
   ]
  },
  {
   "cell_type": "code",
   "execution_count": 1,
   "metadata": {},
   "outputs": [],
   "source": [
    "from webscraper import WebScraper\n",
    "from data_engineering import PandoraSongSet\n",
    "import pandas as pd\n"
   ]
  },
  {
   "cell_type": "markdown",
   "metadata": {},
   "source": [
    "## Main\n",
    "I layed out the order in which to run the project with divisions that made sense to me."
   ]
  },
  {
   "cell_type": "markdown",
   "metadata": {},
   "source": [
    "### Webscraper\n",
    "This will turn on and activate the scraper which will login into Pandora, grab all the stations, iterate through each and collect the thumbs-upped and thumbs-downed songs. It will output all of the collected songs into a json file."
   ]
  },
  {
   "cell_type": "code",
   "execution_count": 2,
   "metadata": {
    "tags": []
   },
   "outputs": [
    {
     "output_type": "stream",
     "name": "stdout",
     "text": "Pandora login successful.\nThere are 35 stations.\nGryffin Radio\n\tLikes: 57 Dislike: 2\n\tActual Likes: 53 Actual Dislike: 1\n6IX9INE Radio\n\tLikes: 3 Dislike: 50\n\tActual Likes: 3 Actual Dislike: 50\nDrake Radio\n\tLikes: 7 Dislike: 4\n\tActual Likes: 7 Actual Dislike: 4\nBack In The Summer Radio\n\tLikes: 14 Dislike: 0\n\tActual Likes: 14 Actual Dislike: 0\nLevel of Concern Radio\n\tLikes: 5 Dislike: 0\n\tActual Likes: 5 Actual Dislike: 0\nSuperhero Radio\n\tLikes: 50 Dislike: 0\n\tActual Likes: 50 Actual Dislike: 0\nStill Woozy Radio\n\tLikes: 190 Dislike: 2\n\tActual Likes: 190 Actual Dislike: 2\nOmae Wa Mou Radio\n\tLikes: 22 Dislike: 0\n\tActual Likes: 22 Actual Dislike: 0\nLewis Capaldi Radio\n\tLikes: 142 Dislike: 0\n\tActual Likes: 142 Actual Dislike: 0\nJukebox The Ghost Radio\n\tLikes: 181 Dislike: 1\n\tActual Likes: 181 Actual Dislike: 1\nJohn Mayer Radio\n\tLikes: 1 Dislike: 1\n\tActual Likes: 1 Actual Dislike: 1\nOlly Murs Radio\n\tLikes: 3 Dislike: 0\n\tActual Likes: 3 Actual Dislike: 0\nI Like Me Better Radio Dance Pop\n\tLikes: 168 Dislike: 0\n\tActual Likes: 168 Actual Dislike: 0\nLonely Radio kpop2\n\tLikes: 24 Dislike: 0\n\tActual Likes: 24 Actual Dislike: 0\nSon Tung M-TP Radio\n\tLikes: 5 Dislike: 0\n\tActual Likes: 5 Actual Dislike: 0\nToday's Hits Radio\n\tLikes: 369 Dislike: 78\n\tActual Likes: 365 Actual Dislike: 77\nHasta El Amanecer Radio\n\tLikes: 18 Dislike: 5\n\tActual Likes: 18 Actual Dislike: 5\nEyes, Nose, Lips Radio\n\tLikes: 347 Dislike: 28\n\tActual Likes: 347 Actual Dislike: 28\nIf I Talk To God Radio Sad\n\tLikes: 96 Dislike: 0\n\tActual Likes: 96 Actual Dislike: 0\nThinking Of Me Radio\n\tLikes: 37 Dislike: 2\n\tActual Likes: 37 Actual Dislike: 2\nJet Lag Radio Angst\n\tLikes: 185 Dislike: 37\n\tActual Likes: 185 Actual Dislike: 37\nWasted Radio Sad\n\tLikes: 390 Dislike: 8\n\tActual Likes: 390 Actual Dislike: 8\nClarity Radio EDM\n\tLikes: 131 Dislike: 45\n\tActual Likes: 131 Actual Dislike: 45\nAmy Winehouse Radio\n\tLikes: 6 Dislike: 0\n\tActual Likes: 6 Actual Dislike: 0\nMKTO Radio Pop\n\tLikes: 344 Dislike: 106\n\tActual Likes: 344 Actual Dislike: 106\nBeyoncé Radio\n\tLikes: 7 Dislike: 1\n\tActual Likes: 7 Actual Dislike: 1\nBritney Spears Radio\n\tLikes: 10 Dislike: 1\n\tActual Likes: 10 Actual Dislike: 1\nUptown Funk (Feat. Bruno Mars) Radio\n\tLikes: 165 Dislike: 226\n\tActual Likes: 164 Actual Dislike: 190\nWasted Radio\n\tLikes: 421 Dislike: 672\n\tActual Likes: 311 Actual Dislike: 669\nTimber Radio\n\tLikes: 309 Dislike: 558\n\tActual Likes: 309 Actual Dislike: 558\nMaroon 5 Radio Throwbacks\n\tLikes: 784 Dislike: 1629\n\tActual Likes: 410 Actual Dislike: 70\nThe data JSON has been created.\n"
    }
   ],
   "source": [
    "pandora_scraper = WebScraper()\n",
    "pandora_scraper.build()"
   ]
  },
  {
   "cell_type": "markdown",
   "metadata": {},
   "source": [
    "### Pandora songs with Spotify audio features\n",
    "This creates a dataset from the webscraped json file and combines it with Spotify audio features."
   ]
  },
  {
   "cell_type": "code",
   "execution_count": 2,
   "metadata": {
    "tags": []
   },
   "outputs": [
    {
     "output_type": "stream",
     "name": "stdout",
     "text": "Spotify authentication successful!\nAudio features retrieved.\nThe full songs CSV has been made.\nThe cleaned songs CSV has been made.\n"
    },
    {
     "output_type": "execute_result",
     "data": {
      "text/plain": "                                name                      artist  \\\n0     I Don't Wanna Love You Anymore                        LANY   \n1937              Beautiful Disaster              Jon McLaughlin   \n1925                   Gone Too Soon                 Simple Plan   \n1930             Your Guardian Angel  The Red Jumpsuit Apparatus   \n1931               Fall For Anything                  The Script   \n...                              ...                         ...   \n3110                       Earned It                  The Weeknd   \n3111              Better Left Unsaid               Ariana Grande   \n3112            All Around The World               Justin Bieber   \n3113                         Holiday                   Green Day   \n5809                  Hit The Lights             Matchbox Twenty   \n\n      danceability  energy  key  loudness  mode  speechiness  acousticness  \\\n0            0.702   0.623    0    -8.360     1       0.0417      0.322000   \n1937         0.432   0.664    7    -4.662     1       0.0302      0.215000   \n1925         0.204   0.811    2    -4.326     1       0.0313      0.011900   \n1930         0.290   0.480    5    -6.583     1       0.0296      0.116000   \n1931         0.558   0.842   10    -4.381     0       0.0340      0.117000   \n...            ...     ...  ...       ...   ...          ...           ...   \n3110         0.659   0.291    2    -8.275     0       0.0348      0.405000   \n3111         0.585   0.831    9    -4.024     1       0.0334      0.039100   \n3112         0.689   0.816    3    -3.951     0       0.1780      0.018800   \n3113         0.290   0.827    8    -3.451     1       0.0362      0.000659   \n5809         0.334   0.406    4    -9.788     1       0.0287      0.001750   \n\n      instrumentalness  liveness  valence    tempo  duration_ms  \\\n0             0.000000    0.0858    0.503  104.974       201198   \n1937          0.000000    0.1500    0.294  156.216       251640   \n1925          0.000000    0.0908    0.296   87.903       195547   \n1930          0.000003    0.6260    0.382  112.620       229235   \n1931          0.000000    0.0672    0.491  123.048       272773   \n...                ...       ...      ...      ...          ...   \n3110          0.000000    0.0771    0.406  119.829       277680   \n3111          0.000144    0.1040    0.280  130.059       211227   \n3112          0.000002    0.1810    0.776  127.972       244547   \n3113          0.000003    0.3010    0.450  167.086       493400   \n5809          0.841000    0.1660    0.167  156.089       251466   \n\n      time_signature  liked  \n0                  4      1  \n1937               4      1  \n1925               4      1  \n1930               4      1  \n1931               4      1  \n...              ...    ...  \n3110               3      0  \n3111               4      0  \n3112               4      0  \n3113               4      0  \n5809               4      0  \n\n[2769 rows x 16 columns]",
      "text/html": "<div>\n<style scoped>\n    .dataframe tbody tr th:only-of-type {\n        vertical-align: middle;\n    }\n\n    .dataframe tbody tr th {\n        vertical-align: top;\n    }\n\n    .dataframe thead th {\n        text-align: right;\n    }\n</style>\n<table border=\"1\" class=\"dataframe\">\n  <thead>\n    <tr style=\"text-align: right;\">\n      <th></th>\n      <th>name</th>\n      <th>artist</th>\n      <th>danceability</th>\n      <th>energy</th>\n      <th>key</th>\n      <th>loudness</th>\n      <th>mode</th>\n      <th>speechiness</th>\n      <th>acousticness</th>\n      <th>instrumentalness</th>\n      <th>liveness</th>\n      <th>valence</th>\n      <th>tempo</th>\n      <th>duration_ms</th>\n      <th>time_signature</th>\n      <th>liked</th>\n    </tr>\n  </thead>\n  <tbody>\n    <tr>\n      <th>0</th>\n      <td>I Don't Wanna Love You Anymore</td>\n      <td>LANY</td>\n      <td>0.702</td>\n      <td>0.623</td>\n      <td>0</td>\n      <td>-8.360</td>\n      <td>1</td>\n      <td>0.0417</td>\n      <td>0.322000</td>\n      <td>0.000000</td>\n      <td>0.0858</td>\n      <td>0.503</td>\n      <td>104.974</td>\n      <td>201198</td>\n      <td>4</td>\n      <td>1</td>\n    </tr>\n    <tr>\n      <th>1937</th>\n      <td>Beautiful Disaster</td>\n      <td>Jon McLaughlin</td>\n      <td>0.432</td>\n      <td>0.664</td>\n      <td>7</td>\n      <td>-4.662</td>\n      <td>1</td>\n      <td>0.0302</td>\n      <td>0.215000</td>\n      <td>0.000000</td>\n      <td>0.1500</td>\n      <td>0.294</td>\n      <td>156.216</td>\n      <td>251640</td>\n      <td>4</td>\n      <td>1</td>\n    </tr>\n    <tr>\n      <th>1925</th>\n      <td>Gone Too Soon</td>\n      <td>Simple Plan</td>\n      <td>0.204</td>\n      <td>0.811</td>\n      <td>2</td>\n      <td>-4.326</td>\n      <td>1</td>\n      <td>0.0313</td>\n      <td>0.011900</td>\n      <td>0.000000</td>\n      <td>0.0908</td>\n      <td>0.296</td>\n      <td>87.903</td>\n      <td>195547</td>\n      <td>4</td>\n      <td>1</td>\n    </tr>\n    <tr>\n      <th>1930</th>\n      <td>Your Guardian Angel</td>\n      <td>The Red Jumpsuit Apparatus</td>\n      <td>0.290</td>\n      <td>0.480</td>\n      <td>5</td>\n      <td>-6.583</td>\n      <td>1</td>\n      <td>0.0296</td>\n      <td>0.116000</td>\n      <td>0.000003</td>\n      <td>0.6260</td>\n      <td>0.382</td>\n      <td>112.620</td>\n      <td>229235</td>\n      <td>4</td>\n      <td>1</td>\n    </tr>\n    <tr>\n      <th>1931</th>\n      <td>Fall For Anything</td>\n      <td>The Script</td>\n      <td>0.558</td>\n      <td>0.842</td>\n      <td>10</td>\n      <td>-4.381</td>\n      <td>0</td>\n      <td>0.0340</td>\n      <td>0.117000</td>\n      <td>0.000000</td>\n      <td>0.0672</td>\n      <td>0.491</td>\n      <td>123.048</td>\n      <td>272773</td>\n      <td>4</td>\n      <td>1</td>\n    </tr>\n    <tr>\n      <th>...</th>\n      <td>...</td>\n      <td>...</td>\n      <td>...</td>\n      <td>...</td>\n      <td>...</td>\n      <td>...</td>\n      <td>...</td>\n      <td>...</td>\n      <td>...</td>\n      <td>...</td>\n      <td>...</td>\n      <td>...</td>\n      <td>...</td>\n      <td>...</td>\n      <td>...</td>\n      <td>...</td>\n    </tr>\n    <tr>\n      <th>3110</th>\n      <td>Earned It</td>\n      <td>The Weeknd</td>\n      <td>0.659</td>\n      <td>0.291</td>\n      <td>2</td>\n      <td>-8.275</td>\n      <td>0</td>\n      <td>0.0348</td>\n      <td>0.405000</td>\n      <td>0.000000</td>\n      <td>0.0771</td>\n      <td>0.406</td>\n      <td>119.829</td>\n      <td>277680</td>\n      <td>3</td>\n      <td>0</td>\n    </tr>\n    <tr>\n      <th>3111</th>\n      <td>Better Left Unsaid</td>\n      <td>Ariana Grande</td>\n      <td>0.585</td>\n      <td>0.831</td>\n      <td>9</td>\n      <td>-4.024</td>\n      <td>1</td>\n      <td>0.0334</td>\n      <td>0.039100</td>\n      <td>0.000144</td>\n      <td>0.1040</td>\n      <td>0.280</td>\n      <td>130.059</td>\n      <td>211227</td>\n      <td>4</td>\n      <td>0</td>\n    </tr>\n    <tr>\n      <th>3112</th>\n      <td>All Around The World</td>\n      <td>Justin Bieber</td>\n      <td>0.689</td>\n      <td>0.816</td>\n      <td>3</td>\n      <td>-3.951</td>\n      <td>0</td>\n      <td>0.1780</td>\n      <td>0.018800</td>\n      <td>0.000002</td>\n      <td>0.1810</td>\n      <td>0.776</td>\n      <td>127.972</td>\n      <td>244547</td>\n      <td>4</td>\n      <td>0</td>\n    </tr>\n    <tr>\n      <th>3113</th>\n      <td>Holiday</td>\n      <td>Green Day</td>\n      <td>0.290</td>\n      <td>0.827</td>\n      <td>8</td>\n      <td>-3.451</td>\n      <td>1</td>\n      <td>0.0362</td>\n      <td>0.000659</td>\n      <td>0.000003</td>\n      <td>0.3010</td>\n      <td>0.450</td>\n      <td>167.086</td>\n      <td>493400</td>\n      <td>4</td>\n      <td>0</td>\n    </tr>\n    <tr>\n      <th>5809</th>\n      <td>Hit The Lights</td>\n      <td>Matchbox Twenty</td>\n      <td>0.334</td>\n      <td>0.406</td>\n      <td>4</td>\n      <td>-9.788</td>\n      <td>1</td>\n      <td>0.0287</td>\n      <td>0.001750</td>\n      <td>0.841000</td>\n      <td>0.1660</td>\n      <td>0.167</td>\n      <td>156.089</td>\n      <td>251466</td>\n      <td>4</td>\n      <td>0</td>\n    </tr>\n  </tbody>\n</table>\n<p>2769 rows × 16 columns</p>\n</div>"
     },
     "metadata": {},
     "execution_count": 2
    }
   ],
   "source": [
    "dataset = PandoraSongSet()\n",
    "dataset.build()\n",
    "dataset.songs"
   ]
  },
  {
   "cell_type": "code",
   "execution_count": 3,
   "metadata": {},
   "outputs": [
    {
     "output_type": "execute_result",
     "data": {
      "text/plain": "                                name            artist  liked  danceability  \\\n0     I Don't Wanna Love You Anymore              LANY   True         0.702   \n1                              Roses  The Chainsmokers   True         0.713   \n2                           Crashing          Illenium   True         0.582   \n3                            So Am I           Ava Max   True         0.682   \n4                        All We Need            ODESZA   True         0.644   \n...                              ...               ...    ...           ...   \n5822                      Main Title        David Cook  False           NaN   \n5823        Another Day At The Plant     Michael Bublé  False           NaN   \n5824                     Barbastella     Calvin Harris  False           NaN   \n5825                 Sherwood Forest        Bruno Mars  False           NaN   \n5826                    The Freshmen      Taylor Swift  False           NaN   \n\n      energy  key  loudness  mode  speechiness  acousticness  ...  liveness  \\\n0      0.623  0.0    -8.360   1.0       0.0417       0.32200  ...    0.0858   \n1      0.802  4.0    -7.055   1.0       0.0561       0.04350  ...    0.3090   \n2      0.681  5.0    -6.138   1.0       0.0458       0.34200  ...    0.1860   \n3      0.656  6.0    -4.670   1.0       0.0435       0.07370  ...    0.3530   \n4      0.848  4.0    -4.952   0.0       0.0511       0.00416  ...    0.0629   \n...      ...  ...       ...   ...          ...           ...  ...       ...   \n5822     NaN  NaN       NaN   NaN          NaN           NaN  ...       NaN   \n5823     NaN  NaN       NaN   NaN          NaN           NaN  ...       NaN   \n5824     NaN  NaN       NaN   NaN          NaN           NaN  ...       NaN   \n5825     NaN  NaN       NaN   NaN          NaN           NaN  ...       NaN   \n5826     NaN  NaN       NaN   NaN          NaN           NaN  ...       NaN   \n\n      valence    tempo            type                      id  \\\n0       0.503  104.974  audio_features  7ArrTJ1LwcGAlEO65LUQ7i   \n1       0.343  100.001  audio_features  3vv9phIu6Y1vX3jcqaGz5Z   \n2       0.273   95.995  audio_features  17Efhyf4A96n0EFXKeB7Ya   \n3       0.607  130.089  audio_features  0uUNN1nSoUx1A4fkDCWDQ7   \n4       0.283   99.989  audio_features  5jnp8E61wcoF6qIEtDHQnJ   \n...       ...      ...             ...                     ...   \n5822      NaN      NaN            None                    None   \n5823      NaN      NaN            None                    None   \n5824      NaN      NaN            None                    None   \n5825      NaN      NaN            None                    None   \n5826      NaN      NaN            None                    None   \n\n                                       uri  \\\n0     spotify:track:7ArrTJ1LwcGAlEO65LUQ7i   \n1     spotify:track:3vv9phIu6Y1vX3jcqaGz5Z   \n2     spotify:track:17Efhyf4A96n0EFXKeB7Ya   \n3     spotify:track:0uUNN1nSoUx1A4fkDCWDQ7   \n4     spotify:track:5jnp8E61wcoF6qIEtDHQnJ   \n...                                    ...   \n5822                                  None   \n5823                                  None   \n5824                                  None   \n5825                                  None   \n5826                                  None   \n\n                                             track_href  \\\n0     https://api.spotify.com/v1/tracks/7ArrTJ1LwcGA...   \n1     https://api.spotify.com/v1/tracks/3vv9phIu6Y1v...   \n2     https://api.spotify.com/v1/tracks/17Efhyf4A96n...   \n3     https://api.spotify.com/v1/tracks/0uUNN1nSoUx1...   \n4     https://api.spotify.com/v1/tracks/5jnp8E61wcoF...   \n...                                                 ...   \n5822                                               None   \n5823                                               None   \n5824                                               None   \n5825                                               None   \n5826                                               None   \n\n                                           analysis_url duration_ms  \\\n0     https://api.spotify.com/v1/audio-analysis/7Arr...    201198.0   \n1     https://api.spotify.com/v1/audio-analysis/3vv9...    226739.0   \n2     https://api.spotify.com/v1/audio-analysis/17Ef...    230000.0   \n3     https://api.spotify.com/v1/audio-analysis/0uUN...    183027.0   \n4     https://api.spotify.com/v1/audio-analysis/5jnp...    211200.0   \n...                                                 ...         ...   \n5822                                               None         NaN   \n5823                                               None         NaN   \n5824                                               None         NaN   \n5825                                               None         NaN   \n5826                                               None         NaN   \n\n      time_signature  \n0                4.0  \n1                4.0  \n2                4.0  \n3                4.0  \n4                4.0  \n...              ...  \n5822             NaN  \n5823             NaN  \n5824             NaN  \n5825             NaN  \n5826             NaN  \n\n[5827 rows x 21 columns]",
      "text/html": "<div>\n<style scoped>\n    .dataframe tbody tr th:only-of-type {\n        vertical-align: middle;\n    }\n\n    .dataframe tbody tr th {\n        vertical-align: top;\n    }\n\n    .dataframe thead th {\n        text-align: right;\n    }\n</style>\n<table border=\"1\" class=\"dataframe\">\n  <thead>\n    <tr style=\"text-align: right;\">\n      <th></th>\n      <th>name</th>\n      <th>artist</th>\n      <th>liked</th>\n      <th>danceability</th>\n      <th>energy</th>\n      <th>key</th>\n      <th>loudness</th>\n      <th>mode</th>\n      <th>speechiness</th>\n      <th>acousticness</th>\n      <th>...</th>\n      <th>liveness</th>\n      <th>valence</th>\n      <th>tempo</th>\n      <th>type</th>\n      <th>id</th>\n      <th>uri</th>\n      <th>track_href</th>\n      <th>analysis_url</th>\n      <th>duration_ms</th>\n      <th>time_signature</th>\n    </tr>\n  </thead>\n  <tbody>\n    <tr>\n      <th>0</th>\n      <td>I Don't Wanna Love You Anymore</td>\n      <td>LANY</td>\n      <td>True</td>\n      <td>0.702</td>\n      <td>0.623</td>\n      <td>0.0</td>\n      <td>-8.360</td>\n      <td>1.0</td>\n      <td>0.0417</td>\n      <td>0.32200</td>\n      <td>...</td>\n      <td>0.0858</td>\n      <td>0.503</td>\n      <td>104.974</td>\n      <td>audio_features</td>\n      <td>7ArrTJ1LwcGAlEO65LUQ7i</td>\n      <td>spotify:track:7ArrTJ1LwcGAlEO65LUQ7i</td>\n      <td>https://api.spotify.com/v1/tracks/7ArrTJ1LwcGA...</td>\n      <td>https://api.spotify.com/v1/audio-analysis/7Arr...</td>\n      <td>201198.0</td>\n      <td>4.0</td>\n    </tr>\n    <tr>\n      <th>1</th>\n      <td>Roses</td>\n      <td>The Chainsmokers</td>\n      <td>True</td>\n      <td>0.713</td>\n      <td>0.802</td>\n      <td>4.0</td>\n      <td>-7.055</td>\n      <td>1.0</td>\n      <td>0.0561</td>\n      <td>0.04350</td>\n      <td>...</td>\n      <td>0.3090</td>\n      <td>0.343</td>\n      <td>100.001</td>\n      <td>audio_features</td>\n      <td>3vv9phIu6Y1vX3jcqaGz5Z</td>\n      <td>spotify:track:3vv9phIu6Y1vX3jcqaGz5Z</td>\n      <td>https://api.spotify.com/v1/tracks/3vv9phIu6Y1v...</td>\n      <td>https://api.spotify.com/v1/audio-analysis/3vv9...</td>\n      <td>226739.0</td>\n      <td>4.0</td>\n    </tr>\n    <tr>\n      <th>2</th>\n      <td>Crashing</td>\n      <td>Illenium</td>\n      <td>True</td>\n      <td>0.582</td>\n      <td>0.681</td>\n      <td>5.0</td>\n      <td>-6.138</td>\n      <td>1.0</td>\n      <td>0.0458</td>\n      <td>0.34200</td>\n      <td>...</td>\n      <td>0.1860</td>\n      <td>0.273</td>\n      <td>95.995</td>\n      <td>audio_features</td>\n      <td>17Efhyf4A96n0EFXKeB7Ya</td>\n      <td>spotify:track:17Efhyf4A96n0EFXKeB7Ya</td>\n      <td>https://api.spotify.com/v1/tracks/17Efhyf4A96n...</td>\n      <td>https://api.spotify.com/v1/audio-analysis/17Ef...</td>\n      <td>230000.0</td>\n      <td>4.0</td>\n    </tr>\n    <tr>\n      <th>3</th>\n      <td>So Am I</td>\n      <td>Ava Max</td>\n      <td>True</td>\n      <td>0.682</td>\n      <td>0.656</td>\n      <td>6.0</td>\n      <td>-4.670</td>\n      <td>1.0</td>\n      <td>0.0435</td>\n      <td>0.07370</td>\n      <td>...</td>\n      <td>0.3530</td>\n      <td>0.607</td>\n      <td>130.089</td>\n      <td>audio_features</td>\n      <td>0uUNN1nSoUx1A4fkDCWDQ7</td>\n      <td>spotify:track:0uUNN1nSoUx1A4fkDCWDQ7</td>\n      <td>https://api.spotify.com/v1/tracks/0uUNN1nSoUx1...</td>\n      <td>https://api.spotify.com/v1/audio-analysis/0uUN...</td>\n      <td>183027.0</td>\n      <td>4.0</td>\n    </tr>\n    <tr>\n      <th>4</th>\n      <td>All We Need</td>\n      <td>ODESZA</td>\n      <td>True</td>\n      <td>0.644</td>\n      <td>0.848</td>\n      <td>4.0</td>\n      <td>-4.952</td>\n      <td>0.0</td>\n      <td>0.0511</td>\n      <td>0.00416</td>\n      <td>...</td>\n      <td>0.0629</td>\n      <td>0.283</td>\n      <td>99.989</td>\n      <td>audio_features</td>\n      <td>5jnp8E61wcoF6qIEtDHQnJ</td>\n      <td>spotify:track:5jnp8E61wcoF6qIEtDHQnJ</td>\n      <td>https://api.spotify.com/v1/tracks/5jnp8E61wcoF...</td>\n      <td>https://api.spotify.com/v1/audio-analysis/5jnp...</td>\n      <td>211200.0</td>\n      <td>4.0</td>\n    </tr>\n    <tr>\n      <th>...</th>\n      <td>...</td>\n      <td>...</td>\n      <td>...</td>\n      <td>...</td>\n      <td>...</td>\n      <td>...</td>\n      <td>...</td>\n      <td>...</td>\n      <td>...</td>\n      <td>...</td>\n      <td>...</td>\n      <td>...</td>\n      <td>...</td>\n      <td>...</td>\n      <td>...</td>\n      <td>...</td>\n      <td>...</td>\n      <td>...</td>\n      <td>...</td>\n      <td>...</td>\n      <td>...</td>\n    </tr>\n    <tr>\n      <th>5822</th>\n      <td>Main Title</td>\n      <td>David Cook</td>\n      <td>False</td>\n      <td>NaN</td>\n      <td>NaN</td>\n      <td>NaN</td>\n      <td>NaN</td>\n      <td>NaN</td>\n      <td>NaN</td>\n      <td>NaN</td>\n      <td>...</td>\n      <td>NaN</td>\n      <td>NaN</td>\n      <td>NaN</td>\n      <td>None</td>\n      <td>None</td>\n      <td>None</td>\n      <td>None</td>\n      <td>None</td>\n      <td>NaN</td>\n      <td>NaN</td>\n    </tr>\n    <tr>\n      <th>5823</th>\n      <td>Another Day At The Plant</td>\n      <td>Michael Bublé</td>\n      <td>False</td>\n      <td>NaN</td>\n      <td>NaN</td>\n      <td>NaN</td>\n      <td>NaN</td>\n      <td>NaN</td>\n      <td>NaN</td>\n      <td>NaN</td>\n      <td>...</td>\n      <td>NaN</td>\n      <td>NaN</td>\n      <td>NaN</td>\n      <td>None</td>\n      <td>None</td>\n      <td>None</td>\n      <td>None</td>\n      <td>None</td>\n      <td>NaN</td>\n      <td>NaN</td>\n    </tr>\n    <tr>\n      <th>5824</th>\n      <td>Barbastella</td>\n      <td>Calvin Harris</td>\n      <td>False</td>\n      <td>NaN</td>\n      <td>NaN</td>\n      <td>NaN</td>\n      <td>NaN</td>\n      <td>NaN</td>\n      <td>NaN</td>\n      <td>NaN</td>\n      <td>...</td>\n      <td>NaN</td>\n      <td>NaN</td>\n      <td>NaN</td>\n      <td>None</td>\n      <td>None</td>\n      <td>None</td>\n      <td>None</td>\n      <td>None</td>\n      <td>NaN</td>\n      <td>NaN</td>\n    </tr>\n    <tr>\n      <th>5825</th>\n      <td>Sherwood Forest</td>\n      <td>Bruno Mars</td>\n      <td>False</td>\n      <td>NaN</td>\n      <td>NaN</td>\n      <td>NaN</td>\n      <td>NaN</td>\n      <td>NaN</td>\n      <td>NaN</td>\n      <td>NaN</td>\n      <td>...</td>\n      <td>NaN</td>\n      <td>NaN</td>\n      <td>NaN</td>\n      <td>None</td>\n      <td>None</td>\n      <td>None</td>\n      <td>None</td>\n      <td>None</td>\n      <td>NaN</td>\n      <td>NaN</td>\n    </tr>\n    <tr>\n      <th>5826</th>\n      <td>The Freshmen</td>\n      <td>Taylor Swift</td>\n      <td>False</td>\n      <td>NaN</td>\n      <td>NaN</td>\n      <td>NaN</td>\n      <td>NaN</td>\n      <td>NaN</td>\n      <td>NaN</td>\n      <td>NaN</td>\n      <td>...</td>\n      <td>NaN</td>\n      <td>NaN</td>\n      <td>NaN</td>\n      <td>None</td>\n      <td>None</td>\n      <td>None</td>\n      <td>None</td>\n      <td>None</td>\n      <td>NaN</td>\n      <td>NaN</td>\n    </tr>\n  </tbody>\n</table>\n<p>5827 rows × 21 columns</p>\n</div>"
     },
     "metadata": {},
     "execution_count": 3
    }
   ],
   "source": [
    "dataset.unclean_songs"
   ]
  },
  {
   "cell_type": "markdown",
   "metadata": {},
   "source": [
    "### Find new recommendations\n",
    "### Randomly select songs from the Spotify database\n",
    "### Use graph network to find songs of similiar users\n",
    "### Use songs similiar in features"
   ]
  }
 ]
}